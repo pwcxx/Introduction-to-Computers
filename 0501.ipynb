{
  "nbformat": 4,
  "nbformat_minor": 0,
  "metadata": {
    "colab": {
      "provenance": [],
      "authorship_tag": "ABX9TyOxx/vrCmoCvIFI2tou97+D",
      "include_colab_link": true
    },
    "kernelspec": {
      "name": "python3",
      "display_name": "Python 3"
    },
    "language_info": {
      "name": "python"
    }
  },
  "cells": [
    {
      "cell_type": "markdown",
      "metadata": {
        "id": "view-in-github",
        "colab_type": "text"
      },
      "source": [
        "<a href=\"https://colab.research.google.com/github/pwcxx/Introduction-to-Computers/blob/main/0501.ipynb\" target=\"_parent\"><img src=\"https://colab.research.google.com/assets/colab-badge.svg\" alt=\"Open In Colab\"/></a>"
      ]
    },
    {
      "cell_type": "code",
      "execution_count": 2,
      "metadata": {
        "colab": {
          "base_uri": "https://localhost:8080/"
        },
        "id": "Fh5_oxYLdoU-",
        "outputId": "bdcb4ced-79f2-4513-e780-29c1ca0aa3d3"
      },
      "outputs": [
        {
          "output_type": "stream",
          "name": "stdout",
          "text": [
            "1234\n",
            "歡迎光臨!\n"
          ]
        }
      ],
      "source": [
        "password = input()\n",
        "if password == \"1234\":\n",
        "    print(\"歡迎光臨!\")\n"
      ]
    },
    {
      "cell_type": "code",
      "source": [
        "password = input()\n",
        "if password == \"1234\":\n",
        "    print(\"歡迎光臨!\")\n",
        "else:\n",
        "    print(\"密碼錯誤!\")\n"
      ],
      "metadata": {
        "colab": {
          "base_uri": "https://localhost:8080/"
        },
        "id": "dzKaEQ07d20g",
        "outputId": "83e8b327-d7a4-476c-f53c-b16710685040"
      },
      "execution_count": 4,
      "outputs": [
        {
          "output_type": "stream",
          "name": "stdout",
          "text": [
            "1234\n",
            "歡迎光臨!\n"
          ]
        }
      ]
    },
    {
      "cell_type": "code",
      "source": [
        "num = int(input(\"請輸入一個整數：\"))\n",
        "\n",
        "if num % 2 == 0:\n",
        "    print(\"偶數\")\n",
        "else:\n",
        "    print(\"奇數\")\n"
      ],
      "metadata": {
        "colab": {
          "base_uri": "https://localhost:8080/"
        },
        "id": "3PfcAh7-eDHD",
        "outputId": "bb5638c4-723f-46c9-f82c-507546437bd9"
      },
      "execution_count": 7,
      "outputs": [
        {
          "output_type": "stream",
          "name": "stdout",
          "text": [
            "請輸入一個整數：33\n",
            "奇數\n"
          ]
        }
      ]
    }
  ]
}