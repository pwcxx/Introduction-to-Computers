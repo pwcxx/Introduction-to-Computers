{
  "nbformat": 4,
  "nbformat_minor": 0,
  "metadata": {
    "colab": {
      "provenance": [],
      "authorship_tag": "ABX9TyNYHC5l4ubsMNi160atSIOq",
      "include_colab_link": true
    },
    "kernelspec": {
      "name": "python3",
      "display_name": "Python 3"
    },
    "language_info": {
      "name": "python"
    }
  },
  "cells": [
    {
      "cell_type": "markdown",
      "metadata": {
        "id": "view-in-github",
        "colab_type": "text"
      },
      "source": [
        "<a href=\"https://colab.research.google.com/github/pwcxx/Introduction-to-Computers/blob/main/0320.ipynb\" target=\"_parent\"><img src=\"https://colab.research.google.com/assets/colab-badge.svg\" alt=\"Open In Colab\"/></a>"
      ]
    },
    {
      "cell_type": "code",
      "source": [
        "國文= int(input(\"請輸入國文成績：\"))\n",
        "英文 = int(input(\"請輸入英文成績：\"))\n",
        "數學= int(input(\"請輸入數學成績：\"))\n",
        "總分 = 國文 + 英文 + 數學\n",
        "print(\"你的成績總分為：\", 總分)"
      ],
      "metadata": {
        "colab": {
          "base_uri": "https://localhost:8080/"
        },
        "id": "bw62k55-COV2",
        "outputId": "9b3277d7-b232-463d-ed24-3f204b81918c"
      },
      "execution_count": 4,
      "outputs": [
        {
          "output_type": "stream",
          "name": "stdout",
          "text": [
            "請輸入國文成績：50\n",
            "請輸入英文成績：60\n",
            "請輸入數學成績：70\n",
            "你的成績總分為： 180\n"
          ]
        }
      ]
    },
    {
      "cell_type": "code",
      "execution_count": 1,
      "metadata": {
        "colab": {
          "base_uri": "https://localhost:8080/"
        },
        "id": "mKxuhljA-tST",
        "outputId": "e4754641-6101-401e-801c-5e71287d1f28"
      },
      "outputs": [
        {
          "output_type": "stream",
          "name": "stdout",
          "text": [
            "請輸入梯形上底長度：20\n",
            "請輸入梯形下底長度：20\n",
            "請輸入梯形的高度：10\n",
            "梯形的面積為： 200.0\n"
          ]
        }
      ],
      "source": [
        "上底 = int(input(\"請輸入梯形上底長度：\"))\n",
        "下底 = int(input(\"請輸入梯形下底長度：\"))\n",
        "高 = int(input(\"請輸入梯形的高度：\"))\n",
        "面積 = (上底 + 下底) * 高 / 2\n",
        "print(\"梯形的面積為：\", 面積)"
      ]
    },
    {
      "cell_type": "code",
      "source": [
        "上底 = int(input(\"請輸入梯形上底長度：\"))\n",
        "下底 = int(input(\"請輸入梯形下底長度：\"))\n",
        "高 = int(input(\"請輸入梯形的高度：\"))\n",
        "面積 = (上底 + 下底) * 高 / 2\n",
        "print(\"梯形的面積為：\", 面積)"
      ],
      "metadata": {
        "colab": {
          "base_uri": "https://localhost:8080/"
        },
        "id": "OuuQryxJ_S_0",
        "outputId": "b61feba7-8597-4841-ed7d-d0c276f87a9c"
      },
      "execution_count": 2,
      "outputs": [
        {
          "output_type": "stream",
          "name": "stdout",
          "text": [
            "請輸入梯形上底長度：3\n",
            "請輸入梯形下底長度：4\n",
            "請輸入梯形的高度：3\n",
            "梯形的面積為： 10.5\n"
          ]
        }
      ]
    },
    {
      "cell_type": "code",
      "source": [
        "身高 = int(input(\"請輸入您的身高(cm)：\"))\n",
        "體重 = int(input(\"請輸入您的體重(kg)：\"))\n",
        "BMI = 體重 / ((身高 / 100) ** 2)\n",
        "print(\"身高\", 身高, \"公分，體重\", 體重, \"公斤，BMI值為\", round(BMI, 2))\n"
      ],
      "metadata": {
        "colab": {
          "base_uri": "https://localhost:8080/"
        },
        "id": "KFvkTR1OBqAF",
        "outputId": "ae1b25c0-28e6-4b2d-fb91-083c60f6610e"
      },
      "execution_count": 3,
      "outputs": [
        {
          "output_type": "stream",
          "name": "stdout",
          "text": [
            "請輸入您的身高(cm)：180\n",
            "請輸入您的體重(kg)：80\n",
            "身高 180 公分，體重 80 公斤，BMI值為 24.69\n"
          ]
        }
      ]
    }
  ]
}